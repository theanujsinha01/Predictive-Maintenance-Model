{
 "cells": [
  {
   "cell_type": "markdown",
   "id": "51522a36-408d-431c-88c0-62d2540e3c51",
   "metadata": {},
   "source": [
    "# Project Name :"
   ]
  },
  {
   "cell_type": "markdown",
   "id": "a9cfdd1c-1d28-4bbb-92e7-340d191869ce",
   "metadata": {},
   "source": [
    "# Predictive-Maintenance-Model"
   ]
  },
  {
   "cell_type": "markdown",
   "id": "df044948-a5f0-4e6e-9b1b-b37c8b46cb92",
   "metadata": {},
   "source": [
    "## Understand the Problem and Plan"
   ]
  },
  {
   "cell_type": "markdown",
   "id": "e3c0d421-d892-43cf-af7e-64959cbe9d66",
   "metadata": {},
   "source": [
    "### Objective"
   ]
  },
  {
   "cell_type": "markdown",
   "id": "2dcfc0f9-2887-4b6c-b66a-1c77a00c37f8",
   "metadata": {},
   "source": [
    "#### Predict the remaining time (MTTF) before failure for industrial equipment using provided sensor and operational data."
   ]
  },
  {
   "cell_type": "markdown",
   "id": "538d52b1-874f-4220-bc39-f1287e386bfc",
   "metadata": {},
   "source": [
    "### Approach"
   ]
  },
  {
   "cell_type": "markdown",
   "id": "df77a902-ad34-40d7-b690-3846e4fbfd72",
   "metadata": {},
   "source": [
    "#### 1.Analyze data for insights.\n",
    "#### 2.Preprocess for quality.\n",
    "#### 3.Build and validate a machine learning model.\n",
    "#### 4.Optimize and deploy for real-world use."
   ]
  },
  {
   "cell_type": "markdown",
   "id": "2892e1c2-ee9f-4398-b3bc-62016ab3e52d",
   "metadata": {},
   "source": [
    "## Load and Explore the Data"
   ]
  },
  {
   "cell_type": "code",
   "execution_count": 132,
   "id": "6b6bbca8-523c-410a-b99d-65c06868523c",
   "metadata": {},
   "outputs": [],
   "source": [
    "# Import necessary libraries\n",
    "import pandas as pd\n",
    "import numpy as np\n",
    "import matplotlib.pyplot as plt\n",
    "import seaborn as sns\n"
   ]
  },
  {
   "cell_type": "code",
   "execution_count": 133,
   "id": "f17dcf1e-4594-4911-8648-4ec968da01eb",
   "metadata": {},
   "outputs": [
    {
     "name": "stdout",
     "output_type": "stream",
     "text": [
      "   UID      ProductType  Humidity  Temperature  Age  Quantity  MTTF \n",
      "0    1         Extruder      5.88        66.17   13     39764     69\n",
      "1    2  Pressure Cutter     42.76        40.29    4     45181    532\n",
      "2    3         Extruder     76.62        52.08    4     70397     93\n",
      "3    4             Pump     45.91        90.26   14     49470    183\n",
      "4    5    Gauge Machine     78.87        58.56   12     45145    447\n"
     ]
    }
   ],
   "source": [
    "# Load the dataset\n",
    "data = pd.read_excel('PM DATA Training.xlsx')\n",
    "\n",
    "# Explore the first few rows\n",
    "print(data.head())\n"
   ]
  },
  {
   "cell_type": "code",
   "execution_count": 134,
   "id": "4fbacfd2-3ec9-4d5c-82cb-fe99e66669a1",
   "metadata": {},
   "outputs": [
    {
     "data": {
      "text/html": [
       "<div>\n",
       "<style scoped>\n",
       "    .dataframe tbody tr th:only-of-type {\n",
       "        vertical-align: middle;\n",
       "    }\n",
       "\n",
       "    .dataframe tbody tr th {\n",
       "        vertical-align: top;\n",
       "    }\n",
       "\n",
       "    .dataframe thead th {\n",
       "        text-align: right;\n",
       "    }\n",
       "</style>\n",
       "<table border=\"1\" class=\"dataframe\">\n",
       "  <thead>\n",
       "    <tr style=\"text-align: right;\">\n",
       "      <th></th>\n",
       "      <th>count</th>\n",
       "      <th>unique</th>\n",
       "      <th>top</th>\n",
       "      <th>freq</th>\n",
       "      <th>mean</th>\n",
       "      <th>std</th>\n",
       "      <th>min</th>\n",
       "      <th>25%</th>\n",
       "      <th>50%</th>\n",
       "      <th>75%</th>\n",
       "      <th>max</th>\n",
       "    </tr>\n",
       "  </thead>\n",
       "  <tbody>\n",
       "    <tr>\n",
       "      <th>UID</th>\n",
       "      <td>5000.0</td>\n",
       "      <td>NaN</td>\n",
       "      <td>NaN</td>\n",
       "      <td>NaN</td>\n",
       "      <td>2500.5</td>\n",
       "      <td>1443.520003</td>\n",
       "      <td>1.0</td>\n",
       "      <td>1250.75</td>\n",
       "      <td>2500.5</td>\n",
       "      <td>3750.25</td>\n",
       "      <td>5000.0</td>\n",
       "    </tr>\n",
       "    <tr>\n",
       "      <th>ProductType</th>\n",
       "      <td>5000</td>\n",
       "      <td>5</td>\n",
       "      <td>Gauge Machine</td>\n",
       "      <td>1029</td>\n",
       "      <td>NaN</td>\n",
       "      <td>NaN</td>\n",
       "      <td>NaN</td>\n",
       "      <td>NaN</td>\n",
       "      <td>NaN</td>\n",
       "      <td>NaN</td>\n",
       "      <td>NaN</td>\n",
       "    </tr>\n",
       "    <tr>\n",
       "      <th>Humidity</th>\n",
       "      <td>5000.0</td>\n",
       "      <td>NaN</td>\n",
       "      <td>NaN</td>\n",
       "      <td>NaN</td>\n",
       "      <td>52.344846</td>\n",
       "      <td>27.617841</td>\n",
       "      <td>5.0</td>\n",
       "      <td>28.3725</td>\n",
       "      <td>52.31</td>\n",
       "      <td>76.58</td>\n",
       "      <td>99.98</td>\n",
       "    </tr>\n",
       "    <tr>\n",
       "      <th>Temperature</th>\n",
       "      <td>5000.0</td>\n",
       "      <td>NaN</td>\n",
       "      <td>NaN</td>\n",
       "      <td>NaN</td>\n",
       "      <td>64.53768</td>\n",
       "      <td>17.523957</td>\n",
       "      <td>35.01</td>\n",
       "      <td>49.5375</td>\n",
       "      <td>64.395</td>\n",
       "      <td>79.81</td>\n",
       "      <td>95.0</td>\n",
       "    </tr>\n",
       "    <tr>\n",
       "      <th>Age</th>\n",
       "      <td>5000.0</td>\n",
       "      <td>NaN</td>\n",
       "      <td>NaN</td>\n",
       "      <td>NaN</td>\n",
       "      <td>8.9946</td>\n",
       "      <td>4.595911</td>\n",
       "      <td>1.0</td>\n",
       "      <td>5.0</td>\n",
       "      <td>9.0</td>\n",
       "      <td>13.0</td>\n",
       "      <td>17.0</td>\n",
       "    </tr>\n",
       "    <tr>\n",
       "      <th>Quantity</th>\n",
       "      <td>5000.0</td>\n",
       "      <td>NaN</td>\n",
       "      <td>NaN</td>\n",
       "      <td>NaN</td>\n",
       "      <td>51222.923</td>\n",
       "      <td>16526.348628</td>\n",
       "      <td>23007.0</td>\n",
       "      <td>36737.0</td>\n",
       "      <td>51061.0</td>\n",
       "      <td>65559.5</td>\n",
       "      <td>79995.0</td>\n",
       "    </tr>\n",
       "    <tr>\n",
       "      <th>MTTF</th>\n",
       "      <td>5000.0</td>\n",
       "      <td>NaN</td>\n",
       "      <td>NaN</td>\n",
       "      <td>NaN</td>\n",
       "      <td>316.26</td>\n",
       "      <td>155.19153</td>\n",
       "      <td>50.0</td>\n",
       "      <td>180.0</td>\n",
       "      <td>315.0</td>\n",
       "      <td>453.0</td>\n",
       "      <td>585.0</td>\n",
       "    </tr>\n",
       "  </tbody>\n",
       "</table>\n",
       "</div>"
      ],
      "text/plain": [
       "              count unique            top  freq       mean           std  \\\n",
       "UID          5000.0    NaN            NaN   NaN     2500.5   1443.520003   \n",
       "ProductType    5000      5  Gauge Machine  1029        NaN           NaN   \n",
       "Humidity     5000.0    NaN            NaN   NaN  52.344846     27.617841   \n",
       "Temperature  5000.0    NaN            NaN   NaN   64.53768     17.523957   \n",
       "Age          5000.0    NaN            NaN   NaN     8.9946      4.595911   \n",
       "Quantity     5000.0    NaN            NaN   NaN  51222.923  16526.348628   \n",
       "MTTF         5000.0    NaN            NaN   NaN     316.26     155.19153   \n",
       "\n",
       "                 min      25%      50%      75%      max  \n",
       "UID              1.0  1250.75   2500.5  3750.25   5000.0  \n",
       "ProductType      NaN      NaN      NaN      NaN      NaN  \n",
       "Humidity         5.0  28.3725    52.31    76.58    99.98  \n",
       "Temperature    35.01  49.5375   64.395    79.81     95.0  \n",
       "Age              1.0      5.0      9.0     13.0     17.0  \n",
       "Quantity     23007.0  36737.0  51061.0  65559.5  79995.0  \n",
       "MTTF            50.0    180.0    315.0    453.0    585.0  "
      ]
     },
     "execution_count": 134,
     "metadata": {},
     "output_type": "execute_result"
    }
   ],
   "source": [
    "data.describe(include=\"all\").T"
   ]
  },
  {
   "cell_type": "code",
   "execution_count": 135,
   "id": "491a290f-69c3-45e3-8c88-c0a6a4c4f965",
   "metadata": {},
   "outputs": [
    {
     "name": "stdout",
     "output_type": "stream",
     "text": [
      "<class 'pandas.core.frame.DataFrame'>\n",
      "RangeIndex: 5000 entries, 0 to 4999\n",
      "Data columns (total 7 columns):\n",
      " #   Column       Non-Null Count  Dtype  \n",
      "---  ------       --------------  -----  \n",
      " 0   UID          5000 non-null   int64  \n",
      " 1   ProductType  5000 non-null   object \n",
      " 2   Humidity     5000 non-null   float64\n",
      " 3   Temperature  5000 non-null   float64\n",
      " 4   Age          5000 non-null   int64  \n",
      " 5   Quantity     5000 non-null   int64  \n",
      " 6   MTTF         5000 non-null   int64  \n",
      "dtypes: float64(2), int64(4), object(1)\n",
      "memory usage: 273.6+ KB\n",
      "None\n"
     ]
    }
   ],
   "source": [
    "# Check for missing values and data types\n",
    "print(data.info())\n"
   ]
  },
  {
   "cell_type": "code",
   "execution_count": 136,
   "id": "d3a58b1f-06cf-4638-8c9a-26443208c06f",
   "metadata": {},
   "outputs": [
    {
     "name": "stdout",
     "output_type": "stream",
     "text": [
      "UID            0\n",
      "ProductType    0\n",
      "Humidity       0\n",
      "Temperature    0\n",
      "Age            0\n",
      "Quantity       0\n",
      "MTTF           0\n",
      "dtype: int64\n",
      "(5000, 7)\n"
     ]
    }
   ],
   "source": [
    "print(data.isnull().sum())\n",
    "print(data.shape)"
   ]
  },
  {
   "cell_type": "markdown",
   "id": "bb995dea-2c10-4b6d-8b11-382a1943dd87",
   "metadata": {},
   "source": [
    "## Data Cleaning"
   ]
  },
  {
   "cell_type": "markdown",
   "id": "5da7d21b-b0e0-4429-a9f4-d47eb027f4ea",
   "metadata": {},
   "source": [
    "#### Handle Missing Values: Replace or drop missing data.\n",
    "#### Check for Duplicates: Remove duplicates if found."
   ]
  },
  {
   "cell_type": "code",
   "execution_count": 137,
   "id": "19b21f72-60ba-4224-99be-50d49949981a",
   "metadata": {},
   "outputs": [
    {
     "name": "stdout",
     "output_type": "stream",
     "text": [
      "UID            0\n",
      "ProductType    0\n",
      "Humidity       0\n",
      "Temperature    0\n",
      "Age            0\n",
      "Quantity       0\n",
      "MTTF           0\n",
      "dtype: int64\n",
      "(5000, 7)\n"
     ]
    }
   ],
   "source": [
    "# Drop duplicate rows\n",
    "data = data.drop_duplicates()\n",
    "\n",
    "# Handle missing values (example: fill with mean for numerical data)\n",
    "data['Humidity'] = data['Humidity'].fillna(data['Humidity'].mean())\n",
    "data['Temperature'] = data['Temperature'].fillna(data['Temperature'].mean())\n",
    "\n",
    "# Verify no missing values remain\n",
    "print(data.isnull().sum())\n",
    "print(data.shape)\n"
   ]
  },
  {
   "cell_type": "markdown",
   "id": "41b690e0-106f-4fa5-b726-c924f0227551",
   "metadata": {},
   "source": [
    "## Feature Engineering"
   ]
  },
  {
   "cell_type": "markdown",
   "id": "48907bf3-7c98-4d6f-843b-266e3bfdf9ef",
   "metadata": {},
   "source": [
    "#### 1.Categorical Encoding: Convert ProductType into numerical values.\n",
    "#### 2.Feature Scaling: Scale features like Humidity, Temperature, Age, and Quantity.\n",
    "#### 3.Feature Selection: Select only relevant columns."
   ]
  },
  {
   "cell_type": "code",
   "execution_count": 138,
   "id": "6edbf1a9-c5a8-437f-a57e-708c746c5849",
   "metadata": {},
   "outputs": [],
   "source": [
    "# Define input (X) and target (y)\n",
    "X = data[['ProductType', 'Humidity', 'Temperature', 'Age']]\n",
    "y = data['MTTF ']"
   ]
  },
  {
   "cell_type": "code",
   "execution_count": 139,
   "id": "698dad88-9616-4337-9834-f633e0e65a9c",
   "metadata": {},
   "outputs": [],
   "source": [
    "from sklearn.preprocessing import OneHotEncoder, StandardScaler\n",
    "from sklearn.compose import ColumnTransformer\n",
    "\n",
    "# Make a preprocessor:\n",
    "# - One-hot encode the 'ProductType' column (text data)\n",
    "# - Scale the number columns (make values smaller and equal size)\n",
    "preprocessor = ColumnTransformer(transformers=[\n",
    "    ('cat', OneHotEncoder(), ['ProductType']),  # for text column\n",
    "    ('num', StandardScaler(), ['Humidity', 'Temperature', 'Age'])  # for number columns\n",
    "])\n",
    "\n",
    "# Now apply this preprocessor to your data X\n",
    "X = preprocessor.fit_transform(X)\n",
    "\n",
    "\n"
   ]
  },
  {
   "cell_type": "markdown",
   "id": "cab786e8-ef3f-4c4f-8bc0-b9fd40b42052",
   "metadata": {},
   "source": [
    "## Split Data for Training & Testing"
   ]
  },
  {
   "cell_type": "code",
   "execution_count": 140,
   "id": "debaacca-35e6-4108-8e85-1cda40b66b0e",
   "metadata": {},
   "outputs": [],
   "source": [
    "from sklearn.model_selection import train_test_split\n",
    "\n",
    "# Split data into training and testing sets (80% train, 20% test)\n",
    "X_train, X_test, y_train, y_test = train_test_split(X, y, test_size=0.2, random_state=42)\n",
    "\n"
   ]
  },
  {
   "cell_type": "markdown",
   "id": "6ed74055-a831-4d0e-8b4d-78dbab43c832",
   "metadata": {},
   "source": [
    "## Train Multiple Models"
   ]
  },
  {
   "cell_type": "markdown",
   "id": "97543530-21db-40ff-bd03-8afb303681eb",
   "metadata": {},
   "source": [
    "### Linear Regression:"
   ]
  },
  {
   "cell_type": "code",
   "execution_count": 141,
   "id": "c6ce1e90-0fa3-453b-a45d-2b00fe0c63bf",
   "metadata": {},
   "outputs": [
    {
     "name": "stdout",
     "output_type": "stream",
     "text": [
      "0.0022974171138973043\n"
     ]
    }
   ],
   "source": [
    "from sklearn.linear_model import LinearRegression\n",
    "\n",
    "# Initialize and train a Linear Regression model\n",
    "linear_model = LinearRegression()\n",
    "linear_model.fit(X_train, y_train)\n",
    "print(linear_model.score(X_train, y_train)\n",
    ")\n",
    "# Predict on test data\n",
    "y_pred_lr = linear_model.predict(X_test)\n"
   ]
  },
  {
   "cell_type": "markdown",
   "id": "97b91d0d-8f91-4a8e-acfc-96c82bcf12bc",
   "metadata": {},
   "source": [
    "### Decision Tree Regressor:"
   ]
  },
  {
   "cell_type": "code",
   "execution_count": 142,
   "id": "3579099d-7fd6-4e75-b3f0-6fec55145fdf",
   "metadata": {},
   "outputs": [
    {
     "name": "stdout",
     "output_type": "stream",
     "text": [
      "100.0 %\n"
     ]
    }
   ],
   "source": [
    "from sklearn.tree import DecisionTreeRegressor\n",
    "\n",
    "# Initialize and train a Decision Tree Regressor model\n",
    "dt_model = DecisionTreeRegressor()\n",
    "dt_model.fit(X_train, y_train)\n",
    "print(dt_model.score(X_train, y_train)*100, \"%\"\n",
    ")\n",
    "\n",
    "# Predict on test data\n",
    "y_pred_dtr = dt_model.predict(X_test)\n"
   ]
  },
  {
   "cell_type": "markdown",
   "id": "e482154f-7b51-43bd-af60-949979508b6c",
   "metadata": {},
   "source": [
    "### Random Forest Regressor:"
   ]
  },
  {
   "cell_type": "code",
   "execution_count": 143,
   "id": "8e079ada-3948-4316-a11d-3750fabbb8c3",
   "metadata": {},
   "outputs": [
    {
     "name": "stdout",
     "output_type": "stream",
     "text": [
      "84.51445254261064 %\n"
     ]
    }
   ],
   "source": [
    "from sklearn.ensemble import RandomForestRegressor\n",
    "\n",
    "# Initialize and train a Random Forest Regressor model\n",
    "rf_model = RandomForestRegressor()\n",
    "rf_model.fit(X_train, y_train)\n",
    "print(rf_model.score(X_train, y_train)*100, \"%\"\n",
    ")\n",
    "\n",
    "# Predict on test data\n",
    "y_pred_rfr = rf_model.predict(X_test)\n"
   ]
  },
  {
   "cell_type": "markdown",
   "id": "e13a8ec2-e836-4392-ad66-1c759715ffb4",
   "metadata": {},
   "source": [
    "### Support Vector Regressor (SVR):"
   ]
  },
  {
   "cell_type": "code",
   "execution_count": 144,
   "id": "d5bbd4dd-5525-4364-8058-c91128845b94",
   "metadata": {},
   "outputs": [
    {
     "name": "stdout",
     "output_type": "stream",
     "text": [
      "0.5836855437930666 %\n"
     ]
    }
   ],
   "source": [
    "from sklearn.svm import SVR\n",
    "\n",
    "# Initialize and train a Support Vector Regressor model\n",
    "svr_model = SVR()\n",
    "svr_model.fit(X_train, y_train)\n",
    "print(svr_model.score(X_train, y_train)*100, \"%\"\n",
    ")\n",
    "\n",
    "# Predict on test data\n",
    "y_pred_svr = svr_model.predict(X_test)\n"
   ]
  },
  {
   "cell_type": "markdown",
   "id": "e58397a0-e588-460f-a648-41853cafcb5d",
   "metadata": {},
   "source": [
    "## Evaluate the Models"
   ]
  },
  {
   "cell_type": "code",
   "execution_count": 145,
   "id": "f8b698c9-cd7d-4979-982e-cbc6fe4e44b8",
   "metadata": {},
   "outputs": [
    {
     "name": "stdout",
     "output_type": "stream",
     "text": [
      "Linear Regression\n",
      "RMSE: 156.78295971256722\n",
      "MAE: 136.21529220392097\n",
      "R2 Score: -0.005381182199798884\n",
      "\n",
      "\n",
      "Decision Tree Regressor\n",
      "RMSE: 222.3860000089934\n",
      "MAE: 184.023\n",
      "R2 Score: -1.0227766030581145\n",
      "\n",
      "\n",
      "Random Forest Regressor\n",
      "RMSE: 164.27008733241726\n",
      "MAE: 140.53838000000002\n",
      "R2 Score: -0.10369737821131308\n",
      "\n",
      "\n",
      "Support Vector Regressor (SVR)\n",
      "RMSE: 156.96919494780988\n",
      "MAE: 136.46049089876982\n",
      "R2 Score: -0.007771092514652134\n",
      "\n",
      "\n"
     ]
    }
   ],
   "source": [
    "\n",
    "\n",
    "# Evaluate performance\n",
    "from sklearn.metrics import mean_squared_error, mean_absolute_error, r2_score\n",
    "import numpy as np\n",
    "\n",
    "print(\"Linear Regression\")\n",
    "rmse = np.sqrt(mean_squared_error(y_test, y_pred_lr))\n",
    "print(\"RMSE:\", rmse)\n",
    "print(\"MAE:\", mean_absolute_error(y_test, y_pred_lr))\n",
    "print(\"R2 Score:\", r2_score(y_test, y_pred_lr))\n",
    "print(\"\\n\")\n",
    "\n",
    "print(\"Decision Tree Regressor\")\n",
    "rmse = np.sqrt(mean_squared_error(y_test, y_pred_dtr))\n",
    "print(\"RMSE:\", rmse)\n",
    "print(\"MAE:\", mean_absolute_error(y_test, y_pred_dtr))\n",
    "print(\"R2 Score:\", r2_score(y_test, y_pred_dtr))\n",
    "print(\"\\n\")\n",
    "\n",
    "print(\"Random Forest Regressor\")\n",
    "rmse = np.sqrt(mean_squared_error(y_test, y_pred_rfr))\n",
    "print(\"RMSE:\", rmse)\n",
    "print(\"MAE:\", mean_absolute_error(y_test, y_pred_rfr))\n",
    "print(\"R2 Score:\", r2_score(y_test, y_pred_rfr))\n",
    "print(\"\\n\")\n",
    "\n",
    "print(\"Support Vector Regressor (SVR)\")\n",
    "rmse = np.sqrt(mean_squared_error(y_test, y_pred_svr))\n",
    "print(\"RMSE:\", rmse)\n",
    "print(\"MAE:\", mean_absolute_error(y_test, y_pred_svr))\n",
    "print(\"R2 Score:\", r2_score(y_test, y_pred_svr))\n",
    "print(\"\\n\")\n",
    "\n",
    "\n"
   ]
  },
  {
   "cell_type": "markdown",
   "id": "c361012b-34f3-4c28-82eb-8293e7da7a9f",
   "metadata": {},
   "source": [
    "## Save the Model"
   ]
  },
  {
   "cell_type": "code",
   "execution_count": 146,
   "id": "59300255-eaf1-464e-b2c9-dee38c38f8fd",
   "metadata": {},
   "outputs": [],
   "source": [
    "best_model = dt_model.fit(X_train, y_train)"
   ]
  },
  {
   "cell_type": "code",
   "execution_count": 147,
   "id": "6ba7f9e7-62cf-4791-aa92-2287e8907964",
   "metadata": {},
   "outputs": [
    {
     "data": {
      "text/plain": [
       "['preprocessor.pkl']"
      ]
     },
     "execution_count": 147,
     "metadata": {},
     "output_type": "execute_result"
    }
   ],
   "source": [
    "import joblib\n",
    "\n",
    "# Save the trained model\n",
    "joblib.dump(best_model, 'predictive_maintenance_model.pkl')\n",
    "joblib.dump(preprocessor, 'preprocessor.pkl')\n",
    "\n"
   ]
  }
 ],
 "metadata": {
  "kernelspec": {
   "display_name": "base",
   "language": "python",
   "name": "python3"
  },
  "language_info": {
   "codemirror_mode": {
    "name": "ipython",
    "version": 3
   },
   "file_extension": ".py",
   "mimetype": "text/x-python",
   "name": "python",
   "nbconvert_exporter": "python",
   "pygments_lexer": "ipython3",
   "version": "3.12.4"
  }
 },
 "nbformat": 4,
 "nbformat_minor": 5
}
